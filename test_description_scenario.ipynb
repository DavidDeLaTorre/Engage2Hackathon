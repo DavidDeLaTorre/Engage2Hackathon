{
 "cells": [
  {
   "metadata": {},
   "cell_type": "code",
   "outputs": [],
   "execution_count": null,
   "source": [
    "import pandas as pd\n",
    "import geopandas as gpd\n",
    "import numpy as np"
   ],
   "id": "2ad1717b4247cc5"
  },
  {
   "metadata": {},
   "cell_type": "code",
   "outputs": [],
   "execution_count": null,
   "source": [
    "# Load the geometries\n",
    "runways = gpd.read_file('engage-hackaton/runways.geojson')\n",
    "thresholds = gpd.read_file('engage-hackaton/thresholds.geojson')\n",
    "\n",
    "# Load the scenario\n",
    "scenario = pd.read_parquet('engage-hackaton/samples/sample_scenario_00.parquet')\n",
    "scenario"
   ],
   "id": "2d9a18e2d76e58a7"
  },
  {
   "metadata": {},
   "cell_type": "code",
   "outputs": [],
   "execution_count": null,
   "source": [
    "first_day_last_hour = pd.read_parquet('data/year=2024/month=11/day=16/hour=23/7fa82f924eb24a429fa321d057d2efd5.snappy.parquet')\n",
    "first_day_last_hour"
   ],
   "id": "d1289b43990b2ec8"
  },
  {
   "metadata": {},
   "cell_type": "code",
   "outputs": [],
   "execution_count": null,
   "source": [
    "print(sorted(first_day_last_hour.columns.tolist()))\n",
    "print(sorted(scenario.columns.tolist()))"
   ],
   "id": "9c78f0299d432e9a"
  },
  {
   "metadata": {},
   "cell_type": "markdown",
   "source": "# Let's see about the DF/BDS",
   "id": "2665ae5772ba93df"
  },
  {
   "metadata": {},
   "cell_type": "code",
   "outputs": [],
   "execution_count": null,
   "source": "sorted(scenario[\"bds\"].unique().dropna())",
   "id": "bffcf441f4d049dc"
  },
  {
   "metadata": {},
   "cell_type": "code",
   "outputs": [],
   "execution_count": null,
   "source": "scenario[scenario['bds'] == '05'].dropna(axis=1, how=\"all\")",
   "id": "3eb8e33bcb9249f8"
  },
  {
   "metadata": {},
   "cell_type": "code",
   "outputs": [],
   "execution_count": null,
   "source": "scenario[scenario['bds'] == '06'].dropna(axis=1, how=\"all\")",
   "id": "54f498ef4d815746"
  },
  {
   "metadata": {},
   "cell_type": "code",
   "outputs": [],
   "execution_count": null,
   "source": "scenario[scenario['bds'] == '08'].dropna(axis=1, how=\"all\")",
   "id": "ac6b48e3412f8b2f"
  },
  {
   "metadata": {},
   "cell_type": "code",
   "outputs": [],
   "execution_count": null,
   "source": "scenario[scenario['bds'] == '09'].dropna(axis=1, how=\"all\")",
   "id": "91a01adc5996f00a"
  },
  {
   "metadata": {},
   "cell_type": "code",
   "outputs": [],
   "execution_count": null,
   "source": "scenario[scenario['bds'] == '61'].dropna(axis=1, how=\"all\")",
   "id": "9a22a4fe26ef7dc4"
  },
  {
   "metadata": {},
   "cell_type": "code",
   "outputs": [],
   "execution_count": null,
   "source": "scenario[scenario['bds'] == '62'].dropna(axis=1, how=\"all\")",
   "id": "aabc44a3b7623238"
  },
  {
   "metadata": {},
   "cell_type": "code",
   "outputs": [],
   "execution_count": null,
   "source": "scenario[scenario['bds'] == '65'].dropna(axis=1, how=\"all\")",
   "id": "e6e50628f1f5925e"
  }
 ],
 "metadata": {},
 "nbformat": 5,
 "nbformat_minor": 9
}
